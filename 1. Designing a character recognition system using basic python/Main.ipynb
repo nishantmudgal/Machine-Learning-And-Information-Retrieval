{
  "nbformat": 4,
  "nbformat_minor": 0,
  "metadata": {
    "kernelspec": {
      "display_name": "Python 3",
      "language": "python",
      "name": "python3"
    },
    "language_info": {
      "codemirror_mode": {
        "name": "ipython",
        "version": 3
      },
      "file_extension": ".py",
      "mimetype": "text/x-python",
      "name": "python",
      "nbconvert_exporter": "python",
      "pygments_lexer": "ipython3",
      "version": "3.8.5"
    },
    "colab": {
      "name": "Practical 1.ipynb",
      "provenance": []
    }
  },
  "cells": [
    {
      "cell_type": "code",
      "metadata": {
        "id": "diVqo1Tjn9Pq"
      },
      "source": [
        "import pandas as pd\n",
        "import math"
      ],
      "execution_count": null,
      "outputs": []
    },
    {
      "cell_type": "code",
      "metadata": {
        "id": "CJ2p1gVin9Pr"
      },
      "source": [
        "data = pd.read_csv('/content/drive/MyDrive/character_dataset.csv')"
      ],
      "execution_count": null,
      "outputs": []
    },
    {
      "cell_type": "code",
      "metadata": {
        "id": "3SpgdTnFn9Pt"
      },
      "source": [
        "def calc_eucledian_distance(v1, v2):\n",
        "    result = 0\n",
        "    for a, b in zip(v1, v2):\n",
        "        result += abs(a-b)*abs(a-b)\n",
        "    result = math.sqrt(result)\n",
        "    return result"
      ],
      "execution_count": null,
      "outputs": []
    },
    {
      "cell_type": "code",
      "metadata": {
        "id": "pe2HC4won9Pu"
      },
      "source": [
        "def find_closest(input_vector):\n",
        "    character = data['Character']\n",
        "    vector = data.drop(['Character'], axis=1)\n",
        "    \n",
        "    prediction = ''\n",
        "    min_distance = -1\n",
        "\n",
        "    for index in range(len(character)):\n",
        "        dist = calc_eucledian_distance(input_vector, vector.iloc[index])\n",
        "        if dist < min_distance or min_distance == -1:\n",
        "            min_distance = dist\n",
        "            prediction = character[index]\n",
        "        \n",
        "    return prediction"
      ],
      "execution_count": null,
      "outputs": []
    },
    {
      "cell_type": "code",
      "metadata": {
        "id": "ZIQSV1Pkn9Pv"
      },
      "source": [
        "def get_input():\n",
        "    print(\"ENTER THE CHARACTER AND ITS FEATURES: \")\n",
        "    ch = input(\"Character: \")\n",
        "    lines = int(input(\"Total number of lines: \"))\n",
        "    horizontal = int(input(\"Horizontal lines: \"))\n",
        "    vertical = int(input(\"Vertical lines: \"))\n",
        "    diagonal = int(input(\"Diagonal lines: \"))\n",
        "    curves = int(input(\"Number of curves: \"))\n",
        "    points = int(input(\"Number of joints: \"))\n",
        "    \n",
        "    return ch, [lines, curves, horizontal, vertical, diagonal, points]"
      ],
      "execution_count": null,
      "outputs": []
    },
    {
      "cell_type": "code",
      "metadata": {
        "colab": {
          "base_uri": "https://localhost:8080/"
        },
        "id": "VhnPG5Ysn9Pv",
        "outputId": "fcf15062-467a-48b9-a71c-04eee238e0ee"
      },
      "source": [
        "print('\\033[1m' + 'Prediction 1:' + '\\033[0m')\n",
        "input_character, input_vector = get_input()"
      ],
      "execution_count": null,
      "outputs": [
        {
          "output_type": "stream",
          "text": [
            "\u001b[1mPrediction 1:\u001b[0m\n",
            "ENTER THE CHARACTER AND ITS FEATURES: \n",
            "Character: A\n",
            "Total number of lines: 3\n",
            "Horizontal lines: 1\n",
            "Vertical lines: 1\n",
            "Diagonal lines: 1\n",
            "Number of curves: 0\n",
            "Number of joints: 3\n"
          ],
          "name": "stdout"
        }
      ]
    },
    {
      "cell_type": "code",
      "metadata": {
        "colab": {
          "base_uri": "https://localhost:8080/"
        },
        "id": "CHYEVP_pn9Px",
        "outputId": "45c7550a-c4e8-4ce1-dbe2-c4ad1c21ccdb"
      },
      "source": [
        "prediction = find_closest(input_vector)\n",
        "print(\"Actual Character: {}, Predicted Character: {}\".format(input_character, prediction))"
      ],
      "execution_count": null,
      "outputs": [
        {
          "output_type": "stream",
          "text": [
            "Actual Character: A, Predicted Character: A\n"
          ],
          "name": "stdout"
        }
      ]
    },
    {
      "cell_type": "code",
      "metadata": {
        "colab": {
          "base_uri": "https://localhost:8080/"
        },
        "id": "J-3vdBoon9Py",
        "outputId": "9338011d-0e65-43fc-88c2-cba2524d2c64"
      },
      "source": [
        "print('\\033[1m' + 'Prediction 2:' + '\\033[0m')\n",
        "input_character, input_vector = get_input()"
      ],
      "execution_count": null,
      "outputs": [
        {
          "output_type": "stream",
          "text": [
            "\u001b[1mPrediction 2:\u001b[0m\n",
            "ENTER THE CHARACTER AND ITS FEATURES: \n",
            "Character: N\n",
            "Total number of lines: 3\n",
            "Horizontal lines: 0\n",
            "Vertical lines: 2\n",
            "Diagonal lines: 1\n",
            "Number of curves: 0\n",
            "Number of joints: 2\n"
          ],
          "name": "stdout"
        }
      ]
    },
    {
      "cell_type": "code",
      "metadata": {
        "colab": {
          "base_uri": "https://localhost:8080/"
        },
        "id": "beio4Lw2KNJb",
        "outputId": "7bfe4bb6-a37f-46c9-ede7-08b12a2b47a5"
      },
      "source": [
        "prediction = find_closest(input_vector)\n",
        "print(\"Actual Character: {}, Predicted Character: {}\".format(input_character, prediction))"
      ],
      "execution_count": null,
      "outputs": [
        {
          "output_type": "stream",
          "text": [
            "Actual Character: N, Predicted Character: N\n"
          ],
          "name": "stdout"
        }
      ]
    }
  ]
}